{
 "cells": [
  {
   "cell_type": "code",
   "execution_count": null,
   "metadata": {
    "deletable": false,
    "editable": false
   },
   "outputs": [],
   "source": [
    "# Initialize Otter\n",
    "import otter\n",
    "grader = otter.Notebook(\"PracticeAssignment.ipynb\")"
   ]
  },
  {
   "cell_type": "markdown",
   "metadata": {},
   "source": [
    "# Assignment 0: Practice - Gradescope\n",
    "\n",
    "This assignment exists for practice only, and consist 0% of your grade.\n",
    "\n",
    "\n",
    "This assignment covers assignment completion, _gradescope_ submission, and anaconda downloading.\n",
    "\n",
    "**PLEASE DO NOT CHANGE THE NAME OF THIS FILE.**\n"
   ]
  },
  {
   "cell_type": "markdown",
   "metadata": {},
   "source": [
    "## How to complete assignments\n",
    "\n",
    "Whenever you see:\n",
    "\n",
    "```python\n",
    "answers = ...\n",
    "```\n",
    "\n",
    "You need to replace this section with some code that answers the questions and meets the specified criteria. Make sure you remove the 'raise' line when you do this (or your notebook will raise an error, regardless of any other code, and thus fail the grading tests).\n",
    "\n",
    "You should write the answer to the questions in those cells (the ones with `...`), but you can also add extra cells to explore / investigate things if you need / want to. \n",
    "\n",
    "Any cell with `grader.check(\"Question_id\")` statements in it is a test cell. You should not try to change or delete these cells. Note that there might be more than one assert that tests a particular question. Once you run the cell, you will see the public tests we provided for you.\n",
    "\n",
    "If a test does fail, reading the error that is printed out should let you know which test failed, which may be useful for fixing it.\n",
    "\n",
    "Note that some cells, including the test cells, may be read only, which means they won't let you edit them. If you cannot edit a cell - that is normal, and you shouldn't need to edit that cell."
   ]
  },
  {
   "cell_type": "markdown",
   "metadata": {},
   "source": [
    "For each assignment, you will encounter following types of question -- multiple choice, math, coding, and free response. For each type of question, we expect you to answer them according to the format we asked so that the autograder will function properly."
   ]
  },
  {
   "cell_type": "markdown",
   "metadata": {},
   "source": [
    "### Q1 - Multiple Choice Question (0.1 points)\n",
    "\n",
    "Consider your response to the following question: which course are you MOST excited about this quarter?:\n",
    "- A) COGS 118B\n",
    "- B) Introduction to Supervised Machine Learning\n",
    "- C) COGS1111118A\n",
    "- D) Intro Sup ML\n",
    "\n",
    "Replace `...` below to assign the letter corresponding to your response to the object `favorite_class`. Be sure that you put quotes around the the letter for your response. \n",
    "\n",
    "For example, if \"COGS 118A\" (option A above) were my answer, I would replace `favorite_class = ...` with `favorite_class = 'A'`.\n",
    "\n",
    "After you add your answer, run the code in that cell using 'Shift + Enter' or clicking the \"Run\" icon above. A number will appear to the left of the cell once your code has executed."
   ]
  },
  {
   "cell_type": "code",
   "execution_count": null,
   "metadata": {
    "tags": []
   },
   "outputs": [],
   "source": [
    "# any answer is a good answer here!\n",
    "favorite_class = ..."
   ]
  },
  {
   "cell_type": "markdown",
   "metadata": {
    "deletable": false,
    "editable": false
   },
   "source": [
    "Typically, after you write some code in your assignments, there will be a few assert statements, similar to what you see below. These help to check that you're on the right path. If you are on the right track, when, you run the code in those cells, they will \"pass silently\", meaning you won't see any output. \n",
    "\n",
    "However, if you get an AssertionError, you'll want to return to the code you right and re-think your response.\n",
    "\n",
    "_Points:_ 0.1"
   ]
  },
  {
   "cell_type": "code",
   "execution_count": null,
   "metadata": {
    "deletable": false,
    "editable": false
   },
   "outputs": [],
   "source": [
    "grader.check(\"q1_multiple_choice_question\")"
   ]
  },
  {
   "cell_type": "markdown",
   "metadata": {},
   "source": [
    "**Note**: Just because an assert doesn't fail does *not* mean you've got the answer right. There are hidden tests in your assignments. These check to ensure the code you've written does what we asked. As long as you do what we ask *and* pass the assert statements, you'll receive full credit."
   ]
  },
  {
   "cell_type": "markdown",
   "metadata": {
    "deletable": false,
    "editable": false
   },
   "source": [
    "<!-- BEGIN QUESTION -->\n",
    "\n",
    "### Q2 - Math Question in $\\LaTeX$\n",
    "\n",
    "For each math question, you would need to use inline $\\LaTeX$ in markdown to complete your answer. We understand not everyone is fluent in LaTeX but we think this is a good skill to learn. [Here is a fantastic tutorial from CalTech about using $\\LaTeX$ in Jupyter Notebook.](http://chebe163.caltech.edu/2018w/handouts/intro_to_latex.html). You could also find various $\\LaTeX$ tutorials and cheat sheets online. \n",
    "\n",
    "#### Example Question:\n",
    "Given the following system of equations, what are the values of $x$ and $y$\n",
    "\n",
    "$$\n",
    "\\begin{cases}\n",
    "      x + y = 10\\\\\n",
    "      x - y = 0\n",
    "\\end{cases}\\,.\n",
    "$$\n",
    "\n",
    "_Sol:_ $x = 5, y = 5$"
   ]
  },
  {
   "cell_type": "markdown",
   "metadata": {
    "deletable": false,
    "editable": false
   },
   "source": [
    "### Question\n",
    "States Bayse Rule using events $A$ and $B$.\n",
    "\n",
    "_Points:_ 0.1"
   ]
  },
  {
   "cell_type": "markdown",
   "metadata": {},
   "source": [
    "_Type your answer here, replacing this text._"
   ]
  },
  {
   "cell_type": "markdown",
   "metadata": {
    "deletable": false,
    "editable": false
   },
   "source": [
    "<!-- END QUESTION -->\n",
    "\n",
    "### Q3 - Coding Question\n",
    "\n",
    "You will be asked to either calculate a target value and assign the value to a specific variable, or to implement a function. Previously in Q1, you saw how to assign the target value to the variable. Here we shall see how to implement a function."
   ]
  },
  {
   "cell_type": "code",
   "execution_count": null,
   "metadata": {
    "tags": []
   },
   "outputs": [],
   "source": [
    "import numpy as np\n",
    "\n",
    "def euclidean_distance(pt1, pt2):\n",
    "    \"\"\"\n",
    "    Given two numpy array, find the euclidean distance between\n",
    "    the two points. Return a signle float.\n",
    "    \"\"\"\n",
    "    ..."
   ]
  },
  {
   "cell_type": "code",
   "execution_count": null,
   "metadata": {
    "deletable": false,
    "editable": false
   },
   "outputs": [],
   "source": [
    "grader.check(\"q3_coding_question\")"
   ]
  },
  {
   "cell_type": "markdown",
   "metadata": {
    "deletable": false,
    "editable": false
   },
   "source": [
    "<!-- BEGIN QUESTION -->\n",
    "\n",
    "### Q4 - Free Response Question\n",
    " \n",
    "Describe what you see. \n",
    "\n",
    "![image.png](imgs/racoon.jpeg)\n",
    "\n",
    "_Points:_ 0.1"
   ]
  },
  {
   "cell_type": "markdown",
   "metadata": {},
   "source": [
    "_Type your answer here, replacing this text._"
   ]
  },
  {
   "cell_type": "markdown",
   "metadata": {
    "deletable": false,
    "editable": false
   },
   "source": [
    "<!-- END QUESTION -->\n",
    "\n",
    "## The End!\n",
    "\n",
    "This is the end of the practice assignment!\n",
    "\n",
    "Have a look back over your answers, and also make sure to `Restart & Run All` from the kernel menu to double check that everything is working properly. This restarts everything and runs your code from top to bottom.\n",
    "\n",
    "When you are ready to submit your assignment, you can click `Validate` at the top. Note that in some assignments the code will take too long to run and validation may fail. Validation is just a final check that all the asserts are passing without failing.\n",
    "\n",
    "Once you're happy with your work, click the disk icon to save, and submit the zip file onto gradescope. **You MUST submit all the required component to receive credit.**\n",
    "\n",
    "Note that you can submit at any time, but **we grade your most recent submission**. This means that **if you submit an updated notebook after the submission deadline, it will be marked as late**."
   ]
  },
  {
   "cell_type": "markdown",
   "metadata": {},
   "source": [
    "_Note:_ If you encountered `LatexFailed` message during exporting, it indicates that your $\\LaTeX$ code is not correct. Try to fix your LaTeX syntax error. If you need any additional helps, please make a private post on piazza and we are happy to help."
   ]
  },
  {
   "cell_type": "markdown",
   "metadata": {
    "deletable": false,
    "editable": false
   },
   "source": [
    "## Submission\n",
    "\n",
    "Make sure you have run all cells in your notebook in order before running the cell below, so that all images/graphs appear in the output. The cell below will generate a zip file for you to submit.\n",
    "\n",
    "Please make sure to see the output of the gradescope autograder. You are responsible for waiting and ensuring that the autograder is executing normally for your submission. Please create a campuswire post if you see errors in autograder execution."
   ]
  },
  {
   "cell_type": "code",
   "execution_count": null,
   "metadata": {
    "deletable": false,
    "editable": false
   },
   "outputs": [],
   "source": [
    "grader.export(force_save=True, run_tests=True, files=['imgs'])"
   ]
  },
  {
   "cell_type": "markdown",
   "metadata": {},
   "source": [
    " "
   ]
  }
 ],
 "metadata": {
  "kernelspec": {
   "display_name": "python3",
   "language": "python",
   "name": "python3"
  },
  "otter": {
   "OK_FORMAT": true,
   "tests": {
    "q1_multiple_choice_question": {
     "name": "q1_multiple_choice_question",
     "points": 0.1,
     "suites": [
      {
       "cases": [
        {
         "code": ">>> possible_answers = ['A', 'B', 'C', 'D']\n>>> assert favorite_class in possible_answers, 'Did you put in some other options?'\n",
         "hidden": false,
         "locked": false
        }
       ],
       "scored": true,
       "setup": "",
       "teardown": "",
       "type": "doctest"
      }
     ]
    },
    "q3_coding_question": {
     "name": "q3_coding_question",
     "points": 0.1,
     "suites": [
      {
       "cases": [
        {
         "code": ">>> assert callable(euclidean_distance)\n",
         "hidden": false,
         "locked": false
        },
        {
         "code": ">>> (pt1, pt2) = (np.array([1, 1]), np.array([0, 0]))\n>>> assert np.isclose(np.sqrt(2), euclidean_distance(pt1, pt2))\n",
         "hidden": false,
         "locked": false
        }
       ],
       "scored": true,
       "setup": "",
       "teardown": "",
       "type": "doctest"
      }
     ]
    }
   }
  }
 },
 "nbformat": 4,
 "nbformat_minor": 4
}
