{
 "cells": [
  {
   "cell_type": "code",
   "execution_count": null,
   "id": "3e26f7e0",
   "metadata": {
    "deletable": false,
    "editable": false
   },
   "outputs": [],
   "source": [
    "# Initialize Otter\n",
    "import otter\n",
    "grader = otter.Notebook(\"A3.ipynb\")"
   ]
  },
  {
   "cell_type": "markdown",
   "id": "95be9216-1282-4e5a-ab58-15684c057d47",
   "metadata": {},
   "source": [
    "## Question 1: Eigenvalues and Eigenvectors (2 Points)"
   ]
  },
  {
   "cell_type": "markdown",
   "id": "a28cd920",
   "metadata": {
    "deletable": false,
    "editable": false
   },
   "source": [
    "### Question 1.1\n",
    "\n",
    "Is the vector $v = \\begin{bmatrix}1, -1, 0\\end{bmatrix}$ an eigenvector of the matrix $M = \\begin{bmatrix}4 & 1 & 1 \\\\ 1 & 4 & 1 \\\\ 1 & 1 & 4\\end{bmatrix}$? \n",
    "\n",
    "If so, create a variable `eigen_val` and set it to the  corresponding eigenvalue. If $v$ is not an eigenvector of $M$, put `eigen_val = None`\n",
    "\n",
    "Please hand calculate this, don't use libraries to do it for you.\n",
    "\n",
    "_Points:_ 0.3"
   ]
  },
  {
   "cell_type": "code",
   "execution_count": null,
   "id": "40e234b0",
   "metadata": {
    "tags": []
   },
   "outputs": [],
   "source": [
    "is_eigen_vec = ...\n",
    "eigen_val = ..."
   ]
  },
  {
   "cell_type": "code",
   "execution_count": null,
   "id": "5abe18b9",
   "metadata": {
    "deletable": false,
    "editable": false
   },
   "outputs": [],
   "source": [
    "grader.check(\"11_eigen_val_and_vecs\")"
   ]
  },
  {
   "cell_type": "markdown",
   "id": "c2aca96d-81f8-40bd-8f80-195cea256dcc",
   "metadata": {
    "deletable": false,
    "editable": false
   },
   "source": [
    "### Question 1.2\n",
    "\n",
    "Calculate the Eigenvalues and Eigenvectors of \n",
    "\n",
    "$$\n",
    "\\begin{bmatrix}\n",
    " 2 & 7 \\\\\n",
    " -1 & -6 \\\\\n",
    "\\end{bmatrix}\n",
    "$$\n",
    "\n",
    "Assign the eigenvalues to variable `lamb1` and `lamb2` in **ascending order**, and their corresponding eigenvectors to `u1` and `u2` respectively.\n",
    "\n",
    "Please hand calculate this, don't use libraries to do it for you.\n",
    "\n",
    "_Points:_ 0.3"
   ]
  },
  {
   "cell_type": "code",
   "execution_count": null,
   "id": "9c896f6a",
   "metadata": {
    "tags": []
   },
   "outputs": [],
   "source": [
    "lamb1, lamb2 = ...\n",
    "u1, u2 = ..."
   ]
  },
  {
   "cell_type": "code",
   "execution_count": null,
   "id": "6efc8fd7",
   "metadata": {
    "deletable": false,
    "editable": false
   },
   "outputs": [],
   "source": [
    "grader.check(\"12_eigen_val_and_vecs\")"
   ]
  },
  {
   "cell_type": "markdown",
   "id": "c7a25957-ddc6-43cf-aa82-0f458e92a6c5",
   "metadata": {
    "deletable": false,
    "editable": false
   },
   "source": [
    "<!-- BEGIN QUESTION -->\n",
    "\n",
    "### Question 1.3\n",
    "\n",
    "$M$ is a 2×2 real-valued symmetric matrix with eigenvalues $\\lambda_1 = 2$, $\\lambda_2 = -1$ and corresponding eigenvectors\n",
    "\n",
    "$$u_1 = \\frac{1}{\\sqrt{5}}\\begin{bmatrix} 2 \\\\ 1\\end{bmatrix}, u_2 = \\frac{1}{\\sqrt{5}}\\begin{bmatrix} -1 \\\\ 2\\end{bmatrix}$$\n",
    "\n",
    "What are the eigenvalues of the matrix $M + 2I$ (where $I$ is the identity matrix)?\n",
    "\n",
    "Please prove this or hand calculate it, don't use libraries to do it for you numerically.\n",
    "\n",
    "_Points:_ 0.3"
   ]
  },
  {
   "cell_type": "markdown",
   "id": "baa4b36e",
   "metadata": {},
   "source": [
    "_Type your answer here, replacing this text._"
   ]
  },
  {
   "cell_type": "markdown",
   "id": "172a1b36-29c1-48e8-8e6f-0f38e8d6faeb",
   "metadata": {
    "deletable": false,
    "editable": false
   },
   "source": [
    "<!-- END QUESTION -->\n",
    "\n",
    "<!-- BEGIN QUESTION -->\n",
    "\n",
    "### Question 1.4\n",
    "\n",
    "$M$ is a 2×2 real-valued symmetric matrix with eigenvalues $\\lambda_1 = 2$, $\\lambda_2 = -1$ and corresponding eigenvectors\n",
    "\n",
    "$$u_1 = \\frac{1}{\\sqrt{5}}\\begin{bmatrix} 2 \\\\ 1\\end{bmatrix}, u_2 = \\frac{1}{\\sqrt{5}}\\begin{bmatrix} -1 \\\\ 2\\end{bmatrix}$$\n",
    "\n",
    "What are the eigenvalues of the matrix $M^2 = MM$?\n",
    "\n",
    "Please prove this or hand calculate it, don't use libraries to do it for you numerically.\n",
    "\n",
    "_Points:_ 0.3"
   ]
  },
  {
   "cell_type": "markdown",
   "id": "6d5e9ca9",
   "metadata": {},
   "source": [
    "_Type your answer here, replacing this text._"
   ]
  },
  {
   "cell_type": "markdown",
   "id": "ad4064e8",
   "metadata": {
    "deletable": false,
    "editable": false
   },
   "source": [
    "<!-- END QUESTION -->\n",
    "\n",
    "<!-- BEGIN QUESTION -->\n",
    "\n",
    "### Question 1.5\n",
    "\n",
    "If ${\\bf v}$ is an eigenvector of the matrix $A^TA$ with eigenvalue $\\lambda$, show that $A{\\bf v}$ is an eigenvector of $A A^T$ with the same eigenvalue $\\lambda$. \n",
    "\n",
    "Remember to obey the rules for _matrix_ multiplication.\n",
    "\n",
    "BTW, this is a cool linear algebra trick we will use later to make calculations easier when $A$ has a huge number of rows and a reasonable number of columns. \n",
    "\n",
    "\n",
    "\n",
    "_Points:_ 0.8"
   ]
  },
  {
   "cell_type": "markdown",
   "id": "a465b990",
   "metadata": {},
   "source": [
    "_Type your answer here, replacing this text._"
   ]
  },
  {
   "cell_type": "markdown",
   "id": "c0f2cfe0-c3d6-4add-9820-806f43fdf0c5",
   "metadata": {
    "deletable": false,
    "editable": false
   },
   "source": [
    "<!-- END QUESTION -->\n",
    "\n",
    "## Question 2: Spetral Clustering (3 Points)"
   ]
  },
  {
   "cell_type": "markdown",
   "id": "db147764-fcc0-4301-b417-3dbf8aba5f49",
   "metadata": {
    "deletable": false,
    "editable": false
   },
   "source": [
    "### Q2.1 Load Data\n",
    "\n",
    "The data is saved in `A3.csv` which contains 3 columns. `x` and `y` columns contains the coordiantes of a datapoint, and the `label` column contains information of which cluster does the point belongs to. First load `A3.csv` into a pandas DataFrame. \n",
    "\n",
    "_Points:_ 0.2"
   ]
  },
  {
   "cell_type": "code",
   "execution_count": null,
   "id": "6fcf05b5",
   "metadata": {
    "deletable": false,
    "editable": false
   },
   "outputs": [],
   "source": [
    "# Some useful imports\n",
    "\n",
    "import numpy as np\n",
    "import pickle\n",
    "import matplotlib.pyplot as plt\n",
    "%matplotlib inline\n",
    "%config InlineBackend.figure_format='retina'\n",
    "from sklearn.cluster import KMeans\n",
    "import pandas as pd\n",
    "import seaborn as sns"
   ]
  },
  {
   "cell_type": "code",
   "execution_count": null,
   "id": "f3c7428e-8a26-453c-8e5f-5bf1f18d70fb",
   "metadata": {
    "tags": []
   },
   "outputs": [],
   "source": [
    "df = ..."
   ]
  },
  {
   "cell_type": "code",
   "execution_count": null,
   "id": "b8a3a9bc",
   "metadata": {
    "deletable": false,
    "editable": false
   },
   "outputs": [],
   "source": [
    "grader.check(\"21_load_data\")"
   ]
  },
  {
   "cell_type": "code",
   "execution_count": null,
   "id": "56db655a-9b96-41a3-9dfa-f745f38cb94e",
   "metadata": {},
   "outputs": [],
   "source": [
    "# put the datapoints in a 2D numpy array\n",
    "data = np.array([df['x'].tolist(), df['y'].tolist()]).T\n",
    "sns.scatterplot(data=df, x='x', y='y', hue='label');"
   ]
  },
  {
   "cell_type": "markdown",
   "id": "ed1ed133-8789-4f6c-81dd-f4e1a7fa76e4",
   "metadata": {
    "deletable": false,
    "editable": false
   },
   "source": [
    "### Q2.2 Implement a function that calculates the similarity between 2 points\n",
    "\n",
    "The similarity between $x_i$ and $x_j$ is given by the following:\n",
    "$$\\text{similarity} = \\exp(-\\frac{||x_i-x_j||^2}{2\\sigma^2})$$\n",
    "\n",
    "_Points:_ 0.6"
   ]
  },
  {
   "cell_type": "code",
   "execution_count": null,
   "id": "699a910f-3a40-4702-b8d7-eb92942e8c4f",
   "metadata": {
    "tags": []
   },
   "outputs": [],
   "source": [
    "def similarity(xi, xj, sigma_square=1.0):\n",
    "    '''\n",
    "    calculates RBF similarity between two vectors of the same size\n",
    "    \n",
    "    parameters: \n",
    "        xi, xj are numpy arrays or other iterable defining two vectors\n",
    "        sigma_square is the RBF normalization constant (default 1.0)\n",
    "    returns: \n",
    "        the RBF similarity function defined in the cell above for xi, xj\n",
    "    '''\n",
    "    ..."
   ]
  },
  {
   "cell_type": "code",
   "execution_count": null,
   "id": "cdf84f97",
   "metadata": {
    "deletable": false,
    "editable": false
   },
   "outputs": [],
   "source": [
    "grader.check(\"22_similarity\")"
   ]
  },
  {
   "cell_type": "markdown",
   "id": "f6316e14-df4b-4bd7-bd87-851ce33d2573",
   "metadata": {
    "deletable": false,
    "editable": false
   },
   "source": [
    "### Q2.3 Implement a function that computes the Affinity Matrix\n",
    "\n",
    "Your Affinity Matrix $A$ should have a dimension of $N\\times N$ where $N$ is the number of data points in the dataset. The element on the $i$ th row and $j$ th column of $A$ should contain the similarity between $x_i$ and $x_j$. \n",
    "\n",
    "$$A_{ij} = \\exp(-\\frac{||x_i-x_j||^2}{2\\sigma^2})$$\n",
    "\n",
    "(Hint: You can build on the function you implemented in Q2.2)\n",
    "\n",
    "_Points:_ 0.7"
   ]
  },
  {
   "cell_type": "code",
   "execution_count": null,
   "id": "ac9c33b6-4a7c-4a8a-8e52-6ceb4833bd76",
   "metadata": {
    "tags": []
   },
   "outputs": [],
   "source": [
    "def construct_similarity_matrix(X, sigma_square=1.0):\n",
    "    '''\n",
    "    calculates an affinity matrix using RBF similarity between rows of a matrix\n",
    "    \n",
    "    parameters:\n",
    "        X is an NxD matrix\n",
    "        sigma_square is the RBF normalization constant (default 1.0)\n",
    "    returns:\n",
    "        the NxN affinity matrix \n",
    "    '''\n",
    "    ..."
   ]
  },
  {
   "cell_type": "code",
   "execution_count": null,
   "id": "df51146b",
   "metadata": {
    "deletable": false,
    "editable": false
   },
   "outputs": [],
   "source": [
    "grader.check(\"23_affinity_matrix\")"
   ]
  },
  {
   "cell_type": "markdown",
   "id": "804b3dd2-2205-4bdd-95b2-03f9da006c52",
   "metadata": {
    "deletable": false,
    "editable": false
   },
   "source": [
    "### Q2.4 Plot the affinity matrix and comment on your findings\n",
    "\n",
    "Use the `plot_affinity` function below to plot the Affinity Matrix and explore different values of `sigma_square`ranging from 0.1 to 5. Use a Markdown cell in the solution region below to comment on your findings.\n",
    "\n",
    "_Points:_ 0.2"
   ]
  },
  {
   "cell_type": "code",
   "execution_count": null,
   "id": "b58a31ec-67cc-4376-9170-9dc17920f011",
   "metadata": {
    "deletable": false,
    "editable": false
   },
   "outputs": [],
   "source": [
    "def plot_affinity(data, sigma_square=0.5):\n",
    "    A = construct_similarity_matrix(data, sigma_square=sigma_square)\n",
    "    plt.imshow(A)\n",
    "    plt.colorbar()"
   ]
  },
  {
   "cell_type": "code",
   "execution_count": null,
   "id": "6fc58b04-eb07-4b3c-93a6-343c7178862a",
   "metadata": {
    "tags": []
   },
   "outputs": [],
   "source": [
    "plot_affinity(data,sigma_square=1)"
   ]
  },
  {
   "cell_type": "markdown",
   "id": "871d97aa-b53c-4a7e-9baa-ca7d2111c990",
   "metadata": {
    "deletable": false,
    "editable": false
   },
   "source": [
    "### Q2.5 Calculate the Laplacian Matrix and run KMeans\n",
    "\n",
    "1. Calculate the affinity matrix `A` with the function you implemented in Q2.3.\n",
    "2. Calculate the degree matrix `D` where `D` is a diagonal matrix with $D_{ii} = \\sum_jA_{ij}$\n",
    "3. Calculate the symmetric normalzied Laplacian matrix `L` with $L=I-D^{-1/2}AD^{-1/2}$. (Hint: since $D$ is a diagonal matrix, you can calculate $D^{-1/2}$ by taking the reciprocal of the square root of each non-zero element along the diagonal)\n",
    "5. Find the eigenvalues and eigenvectors of the Laplacian matrix `L`\n",
    "6. Set the variable `min_eigenvectors` to the 2 eigenvectors corresponds to the 2 smallest eigenvalues (_Hint:_ the dimension/shape of this should be (50,2)).\n",
    "7. The rest of the code will run KMeans (k=2) with the 2 eigenvectors and plot the result. Explore different values of $\\sigma^2$ and see how does it affects your result. \n",
    "\n",
    "Describe the final value of $\\sigma^2$ you settled on, assign it to the `sigma_square` value.\n",
    "\n",
    "_Points:_ 1.3"
   ]
  },
  {
   "cell_type": "code",
   "execution_count": null,
   "id": "5c77ee61-0ee1-47ab-a790-4fa1f09d6abd",
   "metadata": {
    "tags": []
   },
   "outputs": [],
   "source": [
    "# assign your sigma_square value here\n",
    "sigma_square = ...\n",
    "min_eigenvectors = ...\n",
    "\n",
    "...\n",
    "\n",
    "# Normalizing the eigenvectors for K_Means\n",
    "divmat = np.sqrt(np.sum(min_eigenvectors**2, axis=1)).reshape(-1, 1)\n",
    "Y = min_eigenvectors / divmat\n",
    "\n",
    "kmeans = KMeans(n_clusters=2, random_state=42).fit(Y)\n",
    "predictions = kmeans.labels_\n",
    "df['predictions'] = predictions\n",
    "sns.scatterplot(data=df, x='x', y='y', hue='predictions');"
   ]
  },
  {
   "cell_type": "code",
   "execution_count": null,
   "id": "2426a181",
   "metadata": {
    "deletable": false,
    "editable": false
   },
   "outputs": [],
   "source": [
    "grader.check(\"25_affinity_matrix_plot\")"
   ]
  },
  {
   "cell_type": "markdown",
   "id": "97cef26c-098a-4be7-934f-44570ce612ea",
   "metadata": {},
   "source": [
    "## Question 3: PCA (1.2 Points)"
   ]
  },
  {
   "cell_type": "code",
   "execution_count": null,
   "id": "dcec79d7-550f-440c-8ff6-a80756e277e1",
   "metadata": {},
   "outputs": [],
   "source": [
    "X = pickle.load(open('data/dataset.pkl','rb')).T"
   ]
  },
  {
   "cell_type": "markdown",
   "id": "36e3b10a-41c1-4a17-9868-412dbccc9a99",
   "metadata": {},
   "source": [
    "For loops are not needed for any of these questions, except maybe in the eigsort function. All of these can be done concisely by using the formulas exactly as display by using broadcasting and element wise operations"
   ]
  },
  {
   "cell_type": "markdown",
   "id": "6a3ad775-6a60-41c2-b3c0-2714658696ee",
   "metadata": {
    "deletable": false,
    "editable": false
   },
   "source": [
    "### Question 3.1: Create a scatter plot of the dataset using matplotlib\n",
    "\n",
    "_Points:_ 0.1"
   ]
  },
  {
   "cell_type": "code",
   "execution_count": null,
   "id": "c48617c2-65b1-4fca-aa60-93ba1c4bb3db",
   "metadata": {
    "tags": []
   },
   "outputs": [],
   "source": [
    "..."
   ]
  },
  {
   "cell_type": "markdown",
   "id": "13647b2f-bb91-41eb-9422-7a2f8c2e5dbe",
   "metadata": {
    "deletable": false,
    "editable": false
   },
   "source": [
    "### Q3.2 Get the mean vector and covariance matrix of the dataset.\n",
    "\n",
    "1. Get the mean vector of the dataset. This should be a column vector with the shape (2,1). \n",
    "Hint: Use the keepdims parameter with np.mean, and then make sure you are taking the mean across the correct axis.\n",
    "\n",
    "2. Using the mean vector, mean center the data, and store the empirical covariance matrix estimate which is given by the formula $\\frac{1}{n}ZZ^T$, where Z is our mean centered data.\n",
    "\n",
    "3. Store the mean in variable `mu` and store the covariance in variable `Sigma`\n",
    "\n",
    "\n",
    "_Points:_ 0.3"
   ]
  },
  {
   "cell_type": "code",
   "execution_count": null,
   "id": "7e7bd4fa-68cd-498e-b3af-fa91e3596881",
   "metadata": {
    "tags": []
   },
   "outputs": [],
   "source": [
    "mu = ...\n",
    "Z = ...\n",
    "n = ...\n",
    "Sigma = ..."
   ]
  },
  {
   "cell_type": "code",
   "execution_count": null,
   "id": "c3647777",
   "metadata": {
    "deletable": false,
    "editable": false
   },
   "outputs": [],
   "source": [
    "grader.check(\"32_mean_cov\")"
   ]
  },
  {
   "cell_type": "markdown",
   "id": "a9b60be0-9e2d-4d9d-a36e-31752c55303d",
   "metadata": {
    "deletable": false,
    "editable": false
   },
   "source": [
    "### Q3.3 Obtaining Principal Components\n",
    "Using `np.linalg.eigh` please obtain the eigenvectors of the covariance matrix, store them in variables `eigenvalues` and `eigenvectors` accordingly. \n",
    "\n",
    "_Points:_ 0.3"
   ]
  },
  {
   "cell_type": "code",
   "execution_count": null,
   "id": "35ec8df7-7795-444d-a815-f5bee3cb5bb5",
   "metadata": {
    "tags": []
   },
   "outputs": [],
   "source": [
    "eigenvalues,eigenvectors = ..."
   ]
  },
  {
   "cell_type": "code",
   "execution_count": null,
   "id": "1ca7faf7",
   "metadata": {
    "deletable": false,
    "editable": false
   },
   "outputs": [],
   "source": [
    "grader.check(\"33_pca\")"
   ]
  },
  {
   "cell_type": "markdown",
   "id": "c71024ef-cd94-4cc7-bd8c-da2bdfb997ad",
   "metadata": {
    "deletable": false,
    "editable": false
   },
   "source": [
    "<!-- BEGIN QUESTION -->\n",
    "\n",
    "### Q3.4 Interpret Eigenvalues and Eigenvectors\n",
    "Please explain what these eigenvectors represent, and what the associated eigenvalues represent as well.\n",
    "\n",
    "_Points:_ 0.3"
   ]
  },
  {
   "cell_type": "raw",
   "id": "4e8ddeff-1507-4f51-99ea-141db50d7e4b",
   "metadata": {
    "tags": []
   },
   "source": []
  },
  {
   "cell_type": "markdown",
   "id": "df53760c-34a6-4548-9696-af97283f3cdc",
   "metadata": {
    "deletable": false,
    "editable": false
   },
   "source": [
    "<!-- END QUESTION -->\n",
    "\n",
    "<!-- BEGIN QUESTION -->\n",
    "\n",
    "### Q3.5 PCA Projection and Plot\n",
    "1. PLOT #1: You will project the mean centered data onto its principal component basis. Make a scatter plot of the projected data.  The graph should have a title (\"Data projected onto principal components\") and axis labels (\"PC1\", \"PC2\").\n",
    "\n",
    "2. PLOT #2: You will visualize the PCs in the data's original coordinates.  The graph should have a title (\"PC directions in the original data basis\") and axis labels (\"x\", \"y\"). Lay to following plots on top of each other to form a single graph:\n",
    "    - Scatter plot the original data\n",
    "    - Plot a large red dot (use `c='r', s=100`) at the mean of the data\n",
    "    - using commands of the form `plt.plot([vec_x_start, vec_x_end],[vec_y_start, vec_y_end], c='r', linewidth=5)` plot both PC1 and PC2 in wide, red lines. Note that\n",
    "        - PCs should start at the mean of the data\n",
    "        - PCs should be scaled by the square root of their eigenvalues (remember we squared the data to get the covariance matrix)\n",
    "  \n",
    "\n",
    "_Points:_ 0.2"
   ]
  },
  {
   "cell_type": "code",
   "execution_count": null,
   "id": "29ff8574-bb39-4489-983e-028dbb1b8158",
   "metadata": {
    "tags": []
   },
   "outputs": [],
   "source": [
    "# plot those two graphs here.\n",
    "..."
   ]
  },
  {
   "cell_type": "markdown",
   "id": "448d630c",
   "metadata": {
    "deletable": false,
    "editable": false
   },
   "source": [
    "<!-- END QUESTION -->\n",
    "\n",
    "## Question 4: PCA on Face Data (3.8 Points)\n",
    "\n",
    "For this question, use the dataset `q4_data.mat`, and `q4b_data.mat` to answer the following questions. You can use the provided functions or write your own implementation to complete this question."
   ]
  },
  {
   "cell_type": "code",
   "execution_count": null,
   "id": "fdaf5ac1",
   "metadata": {},
   "outputs": [],
   "source": [
    "import numpy as np\n",
    "import scipy.io as sio\n",
    "import matplotlib\n",
    "import matplotlib.pyplot as plt\n",
    "from numpy.matlib import repmat\n",
    "from sklearn.preprocessing import normalize\n",
    "\n",
    "%matplotlib inline\n",
    "%config InlineBackend.figure_format='retina'\n",
    "\n",
    "# view_column Displays a 60 x 60 grayscale image stored in a column vector.\n",
    "\n",
    "def view_column(col_vec, title=None):\n",
    "    plt.imshow(col_vec.reshape([60, 60], order='F'), cmap=plt.get_cmap('gray'))\n",
    "    plt.axis('off')\n",
    "    plt.title(title)\n",
    "    plt.show()\n",
    "\n",
    "# normc(M) normalizes the columns of M to a length of 1.\n",
    "\n",
    "def normc(matrix):\n",
    "    return normalize(matrix, norm='l2', axis=0)\n",
    "\n",
    "# Load the data\n",
    "q4b_data = sio.loadmat('./data/q4b_data.mat')\n",
    "faces = q4b_data['faces']\n",
    "dog = q4b_data['dog']\n",
    "x = q4b_data['x']"
   ]
  },
  {
   "cell_type": "markdown",
   "id": "76201d4a",
   "metadata": {
    "deletable": false,
    "editable": false
   },
   "source": [
    "### Question 4.0\n",
    "\n",
    "Use the `view_column` command to view the 5th face image, which is stored in the 5th column of the `faces` matrix.\n",
    "\n",
    "_Points:_ 0.1"
   ]
  },
  {
   "cell_type": "code",
   "execution_count": null,
   "id": "8881c391",
   "metadata": {
    "scrolled": false,
    "tags": []
   },
   "outputs": [],
   "source": [
    "for i in range(5):\n",
    "    view_column(faces[:, i], title=f\"{i+1}-th face\")"
   ]
  },
  {
   "cell_type": "markdown",
   "id": "e33a15bb",
   "metadata": {},
   "source": [
    "### Question 4.1\n",
    "\n",
    "Compute the mean face (use `numpy.mean`). Then use `view_column` to see it."
   ]
  },
  {
   "cell_type": "code",
   "execution_count": null,
   "id": "ae0b5510",
   "metadata": {
    "tags": []
   },
   "outputs": [],
   "source": [
    "mean_face = ...\n",
    "..."
   ]
  },
  {
   "cell_type": "code",
   "execution_count": null,
   "id": "81b46e08",
   "metadata": {
    "deletable": false,
    "editable": false
   },
   "outputs": [],
   "source": [
    "grader.check(\"41_mean_face\")"
   ]
  },
  {
   "cell_type": "markdown",
   "id": "03d46d43",
   "metadata": {
    "deletable": false,
    "editable": false
   },
   "source": [
    "### Question 4.2 Calculating the Eigenvalues and Eigenvectors\n",
    "\n",
    "Subtract the mean from all of the face images, and store the matrix of mean-subtracted faces in a variable `A`. Use appropriate commands to compute the eigenvectors and eigenvalues of $A^TA$. Store the sorted eigenvectors according to their eigenvalues in the variable `eig_vecs`, and `eig_vals`.\n",
    "\n",
    "_Note:_ we are not computing the eigenvectors and eigenvalues of $AA^T$ directly because that is a very big matrix. See the transpose trick from the previous **question 1.4**. We have also dropped the term $1/n$ from the covariance matrix equation as it does not affect the eigenvectors (it just changes the eigenvalues, which are not used, by a factor of $n$\n",
    "\n",
    "_Hint:_ You will need to manipulate the shape of the mean face matrix to allow [broadcasting](https://numpy.org/doc/stable/user/basics.broadcasting.html).\n",
    "\n",
    "_Points:_ 0.7"
   ]
  },
  {
   "cell_type": "code",
   "execution_count": null,
   "id": "9fab2185",
   "metadata": {
    "tags": []
   },
   "outputs": [],
   "source": [
    "A = ...\n",
    "eig_vals, eig_vecs = ..."
   ]
  },
  {
   "cell_type": "code",
   "execution_count": null,
   "id": "baabdc48",
   "metadata": {
    "deletable": false,
    "editable": false
   },
   "outputs": [],
   "source": [
    "grader.check(\"42_calc_eigen_vec\")"
   ]
  },
  {
   "cell_type": "markdown",
   "id": "ac1189f9",
   "metadata": {
    "deletable": false,
    "editable": false
   },
   "source": [
    "### Question 4.3 Calculating the Eigen-faces\n",
    "\n",
    "`eig_vecs` contains the sorted eigenvectors of $A^T A$. Recalling the transpose trick from the previous **question 1.4**: Use $A$ and `eig_vecs` to calculate $U$, the matrix of eigen-faces (the eigenvectors of $A A^T$).\n",
    "\n",
    "_Points:_ 0.5"
   ]
  },
  {
   "cell_type": "code",
   "execution_count": null,
   "id": "f672cc7d",
   "metadata": {
    "tags": []
   },
   "outputs": [],
   "source": [
    "U = ..."
   ]
  },
  {
   "cell_type": "code",
   "execution_count": null,
   "id": "fdf617c3",
   "metadata": {
    "deletable": false,
    "editable": false
   },
   "outputs": [],
   "source": [
    "grader.check(\"43_calc_eigen_vec\")"
   ]
  },
  {
   "cell_type": "markdown",
   "id": "e9486a87",
   "metadata": {},
   "source": [
    "After calculating the eigenfaces $U$, then we proceed to normalize that eigenfaces matrix."
   ]
  },
  {
   "cell_type": "code",
   "execution_count": null,
   "id": "afd29a3f",
   "metadata": {},
   "outputs": [],
   "source": [
    "U = normc(U)"
   ]
  },
  {
   "cell_type": "markdown",
   "id": "98aeab48",
   "metadata": {
    "deletable": false,
    "editable": false
   },
   "source": [
    "### Question 4.4 Reconstructing Faces\n",
    "\n",
    "Find the principal component coordinates of the 5th face image in the data set.  (This is just like what you did for question (D) 1. above). This is the re-representation of the zero-meaned fifth face in the new data-aligned coordinate space. Call the vector of principal component coordinates `c`.\n",
    "\n",
    "Do the followings:\n",
    "\n",
    "1. Display the 3rd eigenface (use the `view_column` command)\n",
    "\n",
    "2. Reconstruct the 5th face using all 48 principal components, assign the reconstruction to `reconst_full`\n",
    "\n",
    "    - Remember that $\\hat{z}=U_{\\rm reduced}*c_{\\rm reduced}+{\\rm meanface}$)\n",
    "where $U_{\\rm reduced}$ has as columns of the principal component directions that you wish to use  and $c_{\\rm reduced}$ has the corresponding principal component coordinates.\n",
    "\n",
    "    - For all reconstructions, remember to add back the mean face!\n",
    "\n",
    "3. Reconstruct the 5th face using only the first 10 principal components, assign the reconstruction to `reconst_10`\n",
    "\n",
    "\n",
    "_Points:_ 1.1"
   ]
  },
  {
   "cell_type": "code",
   "execution_count": null,
   "id": "793132bc",
   "metadata": {
    "tags": []
   },
   "outputs": [],
   "source": [
    "# Find the PC coordinates of the 5th face image.\n",
    "c = ...\n",
    "\n",
    "# display the eigenface:\n",
    "..."
   ]
  },
  {
   "cell_type": "code",
   "execution_count": null,
   "id": "11478f1e",
   "metadata": {
    "tags": []
   },
   "outputs": [],
   "source": [
    "# Reconstruct the 5th face using all PC:\n",
    "reconst_full = ...\n",
    "\n",
    "# Plot the Full Reconstruction and the OG face\n",
    "view_column(reconst_full, \"Full Reconstruction\")\n",
    "view_column(faces[:, 4], \"Original Face\")"
   ]
  },
  {
   "cell_type": "code",
   "execution_count": null,
   "id": "dd1984dc",
   "metadata": {
    "tags": []
   },
   "outputs": [],
   "source": [
    "# Reconstruct the 5th face using only the first 10 PC:\n",
    "reconst_first_10 = ...\n",
    "\n",
    "# Plot the Full Reconstruction and the OG face\n",
    "view_column(reconst_first_10, \"Partial Reconstruction using 10 PC\")\n",
    "view_column(faces[:, 4], \"Original Face\")"
   ]
  },
  {
   "cell_type": "code",
   "execution_count": null,
   "id": "003a9e45",
   "metadata": {
    "deletable": false,
    "editable": false
   },
   "outputs": [],
   "source": [
    "grader.check(\"44_reconst_faces\")"
   ]
  },
  {
   "cell_type": "markdown",
   "id": "1f36bc56",
   "metadata": {
    "deletable": false,
    "editable": false
   },
   "source": [
    "### Question 4.5 Non-face Image Projection\n",
    "\n",
    "Let's explore what happens when a non-face image is projected into\n",
    "face space.\n",
    "\n",
    "1. The vector `dog` contains a 60x60 picture of a dog. Display the picture of the dog. \n",
    "\n",
    "2. Using the eigenfaces you found (Do NOT recompute the eigenfaces), find the principal component coordinates of\n",
    "the dog image.  $c_{\\rm dog}=U'*(\\rm dog-meanface)$. This gives the coordinates of the dog image in the face-aligned space. Assign the projection to the variable `c_dog`.\n",
    "\n",
    "3. Reconstruct the dog picture using all 48 principal components, and display the image, and assign the reconstruction to variable `dog_reconst`. (This is just like previous question except you use the principal component coordinates computed from the dog above). This is the best reconstruction of the dog image in the face space. (Remember to add back in the meanface)\n",
    "\n",
    "\n",
    "_Points:_ 0.6"
   ]
  },
  {
   "cell_type": "code",
   "execution_count": null,
   "id": "01f55c56",
   "metadata": {
    "tags": []
   },
   "outputs": [],
   "source": [
    "# Visualize the Dog\n",
    "view_column(dog, \"Dog Image\")\n",
    "\n",
    "# make the mean_face dimension consistents with the dog image\n",
    "mean_face = mean_face.reshape(-1, 1)\n",
    "\n",
    "# Calculate the projection of the dog image\n",
    "\n",
    "c_dog = ...\n",
    "\n",
    "# dog_reconsturction\n",
    "dog_reconst = ...\n",
    "\n",
    "view_column(dog_reconst, \"Dog Full Reconstruction\")"
   ]
  },
  {
   "cell_type": "code",
   "execution_count": null,
   "id": "f8c6046b",
   "metadata": {
    "deletable": false,
    "editable": false
   },
   "outputs": [],
   "source": [
    "grader.check(\"45_reconst_non_face\")"
   ]
  },
  {
   "cell_type": "markdown",
   "id": "f48ac9ab",
   "metadata": {
    "deletable": false,
    "editable": false
   },
   "source": [
    "<!-- BEGIN QUESTION -->\n",
    "\n",
    "### Question 4.6 Non-face Image Projection\n",
    "\n",
    "Does the reconstructed dog look like the original picture? Explain why the reconstruction looks the way it does.\n",
    "\n",
    "\n",
    "_Points:_ 0.4"
   ]
  },
  {
   "cell_type": "markdown",
   "id": "a486f775",
   "metadata": {},
   "source": [
    "_Type your answer here, replacing this text._"
   ]
  },
  {
   "cell_type": "markdown",
   "id": "42f946d3",
   "metadata": {
    "deletable": false,
    "editable": false
   },
   "source": [
    "<!-- END QUESTION -->\n",
    "\n",
    "## The End of A3\n",
    "\n",
    "Have a look back over your answers, and also make sure to `Restart & Run All` from the kernel menu to double check that everything is working properly. This restarts everything and runs your code from top to bottom.\n",
    "\n",
    "Once you're happy with your work, click the disk icon to save, and submit the zip file onto gradescope. **You MUST submit all the required component to receive credit.**\n",
    "\n",
    "Note that you can submit at any time, but **we grade your most recent submission**. This means that **if you submit an updated notebook after the submission deadline, it will be marked as late**."
   ]
  },
  {
   "cell_type": "markdown",
   "id": "670dbdd0",
   "metadata": {},
   "source": [
    "_Note:_ If you encountered `LatexFailed` message during exporting, or has the `AttributeError: module 'nbconvert' has no attribute 'pdf'` error, it indicates that your $\\LaTeX$ code is not correct. Try to the LaTeX syntax error by scrolling up to see the LaTeX error message. If you need any additional helps, please make a private post on campuswire and we are happy to help."
   ]
  },
  {
   "cell_type": "markdown",
   "id": "27ee9118",
   "metadata": {
    "deletable": false,
    "editable": false
   },
   "source": [
    "## Submission\n",
    "\n",
    "Make sure you have run all cells in your notebook in order before running the cell below, so that all images/graphs appear in the output. The cell below will generate a zip file for you to submit.\n",
    "\n",
    "Please make sure to see the output of the gradescope autograder. You are responsible for waiting and ensuring that the autograder is executing normally for your submission. Please create a campuswire post if you see errors in autograder execution."
   ]
  },
  {
   "cell_type": "code",
   "execution_count": null,
   "id": "10b4312b",
   "metadata": {
    "deletable": false,
    "editable": false
   },
   "outputs": [],
   "source": [
    "grader.export(force_save=True, run_tests=True, files=['data'])"
   ]
  },
  {
   "cell_type": "markdown",
   "id": "ed3a664b",
   "metadata": {},
   "source": [
    " "
   ]
  }
 ],
 "metadata": {
  "kernelspec": {
   "display_name": "Python 3 (ipykernel)",
   "language": "python",
   "name": "python3"
  },
  "language_info": {
   "codemirror_mode": {
    "name": "ipython",
    "version": 3
   },
   "file_extension": ".py",
   "mimetype": "text/x-python",
   "name": "python",
   "nbconvert_exporter": "python",
   "pygments_lexer": "ipython3",
   "version": "3.11.7"
  },
  "otter": {
   "OK_FORMAT": true,
   "tests": {
    "11_eigen_val_and_vecs": {
     "name": "11_eigen_val_and_vecs",
     "points": 0.3,
     "suites": [
      {
       "cases": [
        {
         "code": ">>> assert isinstance(is_eigen_vec, bool)\n>>> assert eigen_val == None or isinstance(eigen_val, float)\n",
         "hidden": false,
         "locked": false,
         "points": 0
        }
       ],
       "scored": true,
       "setup": "",
       "teardown": "",
       "type": "doctest"
      }
     ]
    },
    "12_eigen_val_and_vecs": {
     "name": "12_eigen_val_and_vecs",
     "points": 0.3,
     "suites": [
      {
       "cases": [
        {
         "code": ">>> assert isinstance(lamb1, float)\n>>> assert isinstance(lamb2, float)\n>>> assert isinstance(u1, list)\n>>> assert isinstance(u2, list)\n",
         "hidden": false,
         "locked": false,
         "points": 0
        }
       ],
       "scored": true,
       "setup": "",
       "teardown": "",
       "type": "doctest"
      }
     ]
    },
    "21_load_data": {
     "name": "21_load_data",
     "points": 0.2,
     "suites": [
      {
       "cases": [
        {
         "code": ">>> assert np.isclose(df.shape[0], 50)\n>>> assert np.isclose(df.shape[1], 3)\n>>> assert df.columns.tolist() == ['x', 'y', 'label']\n",
         "hidden": false,
         "locked": false
        }
       ],
       "scored": true,
       "setup": "",
       "teardown": "",
       "type": "doctest"
      }
     ]
    },
    "22_similarity": {
     "name": "22_similarity",
     "points": 0.6,
     "suites": [
      {
       "cases": [
        {
         "code": ">>> assert callable(similarity)\n>>> xi = np.array([0.0, 0.0])\n>>> xj = np.array([0.0, 0.0])\n>>> assert np.isclose(similarity(xi, xj, sigma_square=1.0), 1.0)\n>>> xi = np.array([12, 12])\n>>> xj = np.array([-12, -12])\n>>> assert np.isclose(similarity(xi, xj, sigma_square=1.0), 0.0)\n>>> xi = data[10]\n>>> xj = data[15]\n>>> assert np.isclose(similarity(xi, xj, sigma_square=0.5), 0.1780143321)\n",
         "hidden": false,
         "locked": false,
         "points": 0
        }
       ],
       "scored": true,
       "setup": "",
       "teardown": "",
       "type": "doctest"
      }
     ]
    },
    "23_affinity_matrix": {
     "name": "23_affinity_matrix",
     "points": 0.7,
     "suites": [
      {
       "cases": [
        {
         "code": ">>> assert callable(construct_similarity_matrix)\n",
         "hidden": false,
         "locked": false,
         "points": 0
        }
       ],
       "scored": true,
       "setup": "",
       "teardown": "",
       "type": "doctest"
      }
     ]
    },
    "24_affinity_matrix_plot": {
     "name": "24_affinity_matrix_plot",
     "points": 0.2,
     "suites": [
      {
       "cases": [],
       "scored": true,
       "setup": "",
       "teardown": "",
       "type": "doctest"
      }
     ]
    },
    "25_affinity_matrix_plot": {
     "name": "25_affinity_matrix_plot",
     "points": 1.3,
     "suites": [
      {
       "cases": [
        {
         "code": ">>> assert isinstance(sigma_square, float)\n>>> assert isinstance(min_eigenvectors, np.ndarray)\n>>> assert len(min_eigenvectors.shape) == 2, 'Is the eigenvecotors a matrix?'\n>>> assert np.allclose((50, 2), min_eigenvectors.shape)\n",
         "hidden": false,
         "locked": false,
         "points": 0
        }
       ],
       "scored": true,
       "setup": "",
       "teardown": "",
       "type": "doctest"
      }
     ]
    },
    "31_plot": {
     "name": "31_plot",
     "points": 0.1,
     "suites": [
      {
       "cases": [],
       "scored": true,
       "setup": "",
       "teardown": "",
       "type": "doctest"
      }
     ]
    },
    "32_mean_cov": {
     "name": "32_mean_cov",
     "points": 0.3,
     "suites": [
      {
       "cases": [
        {
         "code": ">>> assert isinstance(mu, np.ndarray)\n>>> assert isinstance(Z, np.ndarray)\n>>> assert isinstance(Sigma, np.ndarray)\n",
         "hidden": false,
         "locked": false,
         "points": 0
        }
       ],
       "scored": true,
       "setup": "",
       "teardown": "",
       "type": "doctest"
      }
     ]
    },
    "33_pca": {
     "name": "33_pca",
     "points": 0.3,
     "suites": [
      {
       "cases": [
        {
         "code": ">>> assert isinstance(eigenvalues, np.ndarray)\n>>> assert isinstance(eigenvectors, np.ndarray)\n",
         "hidden": false,
         "locked": false,
         "points": 0
        }
       ],
       "scored": true,
       "setup": "",
       "teardown": "",
       "type": "doctest"
      }
     ]
    },
    "41_mean_face": {
     "name": "41_mean_face",
     "points": 0.4,
     "suites": [
      {
       "cases": [
        {
         "code": ">>> assert np.isclose(3600, sum(mean_face.shape)), 'Do your mean face has the correct shape?'\n",
         "hidden": false,
         "locked": false,
         "points": 0
        },
        {
         "code": ">>> mean_face_ref = np.mean(faces, axis=1)\n>>> assert np.allclose(mean_face_ref, mean_face), 'Is your mean face correct with the actual mean face?'\n",
         "hidden": false,
         "locked": false
        }
       ],
       "scored": true,
       "setup": "",
       "teardown": "",
       "type": "doctest"
      }
     ]
    },
    "42_calc_eigen_vec": {
     "name": "42_calc_eigen_vec",
     "points": 0.7,
     "suites": [
      {
       "cases": [
        {
         "code": ">>> assert np.allclose((3600, 48), A.shape), 'Shape is wrong'\n>>> assert np.allclose((48, 48), eig_vecs.shape), 'Shape is wrong'\n>>> assert np.allclose(48, eig_vals.shape), 'Shape is wrong'\n",
         "hidden": false,
         "locked": false,
         "points": 0
        }
       ],
       "scored": true,
       "setup": "",
       "teardown": "",
       "type": "doctest"
      }
     ]
    },
    "43_calc_eigen_vec": {
     "name": "43_calc_eigen_vec",
     "points": 0.5,
     "suites": [
      {
       "cases": [
        {
         "code": ">>> assert np.allclose((3600, 48), U.shape), 'Shape is wrong'\n",
         "hidden": false,
         "locked": false,
         "points": 0
        }
       ],
       "scored": true,
       "setup": "",
       "teardown": "",
       "type": "doctest"
      }
     ]
    },
    "44_reconst_faces": {
     "name": "44_reconst_faces",
     "points": 1.1,
     "suites": [
      {
       "cases": [
        {
         "code": ">>> assert isinstance(c, np.ndarray)\n>>> assert np.allclose(48, c.shape), 'Shape is wrong'\n>>> assert isinstance(reconst_full, np.ndarray)\n>>> assert isinstance(reconst_first_10, np.ndarray)\n>>> assert np.allclose(3600, reconst_full.shape), 'Shape is wrong'\n>>> assert np.allclose(3600, reconst_first_10.shape), 'Shape is wrong'\n",
         "hidden": false,
         "locked": false,
         "points": 0
        }
       ],
       "scored": true,
       "setup": "",
       "teardown": "",
       "type": "doctest"
      }
     ]
    },
    "45_reconst_non_face": {
     "name": "45_reconst_non_face",
     "points": 0.6,
     "suites": [
      {
       "cases": [
        {
         "code": ">>> assert isinstance(c_dog, np.ndarray)\n>>> assert isinstance(dog_reconst, np.ndarray)\n>>> assert np.isclose(48, c_dog.shape[0])\n>>> assert np.isclose(3600, dog_reconst.shape[0])\n",
         "hidden": false,
         "locked": false,
         "points": 0
        }
       ],
       "scored": true,
       "setup": "",
       "teardown": "",
       "type": "doctest"
      }
     ]
    }
   }
  }
 },
 "nbformat": 4,
 "nbformat_minor": 5
}
